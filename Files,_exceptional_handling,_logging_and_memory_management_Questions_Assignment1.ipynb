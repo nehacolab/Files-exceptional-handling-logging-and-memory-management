{
  "nbformat": 4,
  "nbformat_minor": 0,
  "metadata": {
    "colab": {
      "provenance": []
    },
    "kernelspec": {
      "name": "python3",
      "display_name": "Python 3"
    },
    "language_info": {
      "name": "python"
    }
  },
  "cells": [
    {
      "cell_type": "markdown",
      "source": [
        "Q-1 What is the difference between interpreted and compiled languages ?\n"
      ],
      "metadata": {
        "id": "MiTmtJate8JE"
      }
    },
    {
      "cell_type": "markdown",
      "source": [
        "Ans The key differences between interpreted and compiled languages are:\n",
        "\n",
        "Compiled Language\t: Translated to machine code first\n",
        "Generally faster\n",
        "C, C++, Rust\n",
        "Catches errors at compile-time\n",
        "Creates a standalone executable\n",
        "Interpreted Language : Run line-by-line by an interpreter\n",
        "\n",
        "Generally slower\n",
        "\n",
        "Python, JavaScript, Ruby\n",
        "\n",
        "Catches errors at run-time\n",
        "\n",
        "Needs interpreter to run\n",
        "\n",
        "\n"
      ],
      "metadata": {
        "id": "UqjfK0ldfG-T"
      }
    },
    {
      "cell_type": "markdown",
      "source": [
        "Q-2 What is exception handling in Python ?\n"
      ],
      "metadata": {
        "id": "nRqGJM7BgxhA"
      }
    },
    {
      "cell_type": "markdown",
      "source": [
        "Ans Exception handling in Python is a way to catch and manage errors during program execution, preventing crashes.\n",
        "\n"
      ],
      "metadata": {
        "id": "5ee0GXzmhEvI"
      }
    },
    {
      "cell_type": "markdown",
      "source": [
        "Q-3 What is the purpose of the finally block in exception handling?\n"
      ],
      "metadata": {
        "id": "RwsEnJuMhT0Q"
      }
    },
    {
      "cell_type": "markdown",
      "source": [
        "Ans The finally block in Python is used to define code that always runs, whether or not an exception occurs.\n",
        "\n",
        "Purpose:\n",
        "To clean up resources (e.g., close files, release locks, disconnect databases)\n",
        "\n",
        "To ensure certain code executes no matter what\n",
        "\n"
      ],
      "metadata": {
        "id": "qZlxVF5NhgMp"
      }
    },
    {
      "cell_type": "markdown",
      "source": [
        "Q-4  What is logging in Python ?\n"
      ],
      "metadata": {
        "id": "CpvkrV1ohsY8"
      }
    },
    {
      "cell_type": "markdown",
      "source": [
        "Ans Logging in Python is a way to record messages (info, warnings, errors, etc.) during program execution for debugging and monitoring.\n",
        "\n",
        "Why use logging?\n",
        "Tracks events while software runs\n",
        "\n",
        "Better than print statements (more control, can write to files)\n",
        "\n"
      ],
      "metadata": {
        "id": "AlgCKTQAh0ue"
      }
    },
    {
      "cell_type": "markdown",
      "source": [
        "Q-5 What is the significance of the __del__ method in Python ?\n"
      ],
      "metadata": {
        "id": "NiFrUoC5h_z2"
      }
    },
    {
      "cell_type": "markdown",
      "source": [
        "Ans The __del__ method in Python is a destructor — it's called when an object is about to be destroyed (i.e., garbage collected).\n",
        "\n",
        "Purpose:\n",
        "To clean up resources (e.g., close files, network connections)\n",
        "\n"
      ],
      "metadata": {
        "id": "jMJoJZS0iNA-"
      }
    },
    {
      "cell_type": "markdown",
      "source": [
        "Q-6 What is the difference between import and from ... import in Python ?\n"
      ],
      "metadata": {
        "id": "RwZkFJKtiXar"
      }
    },
    {
      "cell_type": "markdown",
      "source": [
        "Ans import module imports the entire module. You access its contents with module.name.\n",
        "Example: import math; use as math.sqrt(4).\n",
        "\n",
        "from module import name imports specific items directly, so you use them without the module prefix.\n",
        "Example: from math import sqrt; use as sqrt(4).\n",
        "\n",
        "\n",
        "\n"
      ],
      "metadata": {
        "id": "9UsxSZpTA0Qz"
      }
    },
    {
      "cell_type": "markdown",
      "source": [
        "Q-7 How can you handle multiple exceptions in Python ?\n"
      ],
      "metadata": {
        "id": "HGcasqiFBX6f"
      }
    },
    {
      "cell_type": "markdown",
      "source": [
        "Ans To handle multiple exceptions in Python, you can:\n",
        "\n",
        "\n",
        "\n",
        "    code()\n",
        "except (ValueError, ZeroDivisionError) as e:\n",
        "    print(\"Error:\", e)\n",
        "Use multiple except blocks (for different handling):\n",
        "\n",
        "python\n",
        "Copy\n",
        "Edit\n",
        "try:\n",
        "    code()\n",
        "except ValueError:\n",
        "    print(\"Value error\")\n",
        "except ZeroDivisionError:\n",
        "    print(\"Division by zero\")\n",
        "\n",
        "\n",
        "\n",
        "\n",
        "\n",
        "\n",
        "\n"
      ],
      "metadata": {
        "id": "sW77LuXEBir2"
      }
    },
    {
      "cell_type": "markdown",
      "source": [
        "Q-8 What is the purpose of the with statement when handling files in Python ?\n"
      ],
      "metadata": {
        "id": "NYAvHoAHB6VJ"
      }
    },
    {
      "cell_type": "markdown",
      "source": [
        "Ans The with statement in Python ensures proper resource management when handling files. It:\n",
        "\n",
        "Automatically opens and closes the file, even if errors occur.\n",
        "\n",
        "Makes code cleaner and safer.\n",
        "\n"
      ],
      "metadata": {
        "id": "CaBuu--tCH4C"
      }
    },
    {
      "cell_type": "markdown",
      "source": [
        "Q-9 What is the difference between multithreading and multiprocessing ?\n"
      ],
      "metadata": {
        "id": "QciQ2usOCSVc"
      }
    },
    {
      "cell_type": "markdown",
      "source": [
        "Ans Multithreading and multiprocessing differ in how they handle tasks:\n",
        "\n",
        "Multithreading: Multiple threads share the same memory space. Good for I/O-bound tasks.\n",
        "\n",
        "Multiprocessing: Multiple processes have separate memory. Better for CPU-bound tasks.\n",
        "\n",
        "Python's GIL limits true parallelism in threads, so use multiprocessing for CPU-heavy work."
      ],
      "metadata": {
        "id": "Q675jmWCCgNw"
      }
    },
    {
      "cell_type": "markdown",
      "source": [
        "Q-10 What are the advantages of using logging in a program ?\n"
      ],
      "metadata": {
        "id": "EuuTe2bBCxi0"
      }
    },
    {
      "cell_type": "markdown",
      "source": [
        "Ans Using logging in a program offers these advantages:\n",
        "\n",
        "Tracks events: Helps monitor program flow and behavior.\n",
        "\n",
        "Debugging aid: Easier to find and fix bugs than using print().\n",
        "\n",
        "Configurable: Control log levels, formats, and output destinations.\n",
        "\n",
        "Persistent: Logs can be saved to files for future analysis.\n",
        "\n",
        "\n",
        "\n",
        "\n",
        "\n",
        "\n",
        "\n",
        "\n"
      ],
      "metadata": {
        "id": "hiL7GEcrC61L"
      }
    },
    {
      "cell_type": "markdown",
      "source": [
        "Q-11 What is memory management in Python ?\n"
      ],
      "metadata": {
        "id": "BlA8-mrZDC1G"
      }
    },
    {
      "cell_type": "markdown",
      "source": [
        "Ans Memory management in Python involves how the interpreter allocates and frees memory during program execution. Key features:\n",
        "\n",
        "Automatic garbage collection: Unused objects are deleted automatically.\n",
        "\n",
        "Reference counting: Objects are deleted when no references remain.\n",
        "\n",
        "Memory pools: Python uses private heaps and allocates memory in blocks for efficiency.\n",
        "\n",
        "\n",
        "\n",
        "\n",
        "\n",
        "\n",
        "\n",
        "\n"
      ],
      "metadata": {
        "id": "JWTivin3DKkr"
      }
    },
    {
      "cell_type": "markdown",
      "source": [
        "Q-12 What are the basic steps involved in exception handling in Python ?\n"
      ],
      "metadata": {
        "id": "MNF_n8gpDb3b"
      }
    },
    {
      "cell_type": "markdown",
      "source": [
        "Ans Basic steps in Python exception handling:\n",
        "\n",
        "Try block: Wrap code that might raise an exception.\n",
        "\n",
        "Except block: Catch and handle specific exceptions.\n",
        "\n",
        "Else block (optional): Runs if no exception occurs.\n",
        "\n",
        "Finally block (optional): Always runs (cleanup code).\n",
        "\n"
      ],
      "metadata": {
        "id": "cNOjH-FNDkHT"
      }
    },
    {
      "cell_type": "markdown",
      "source": [
        "Q-13 Why is memory management important in Python ?\n"
      ],
      "metadata": {
        "id": "jWDFGP8ZDupG"
      }
    },
    {
      "cell_type": "markdown",
      "source": [
        "Ans Memory management is important in Python because it:\n",
        "\n",
        "Prevents memory leaks by reclaiming unused memory (via garbage collection).\n",
        "\n",
        "Improves performance by efficiently allocating and freeing memory.\n",
        "\n",
        "Ensures stability by avoiding crashes due to excessive memory use.\n",
        "\n",
        "Simplifies development since Python handles memory automatically.\n",
        "\n",
        "\n",
        "\n",
        "\n",
        "\n",
        "\n",
        "\n",
        "\n"
      ],
      "metadata": {
        "id": "Czt-Ci19D-dZ"
      }
    },
    {
      "cell_type": "markdown",
      "source": [
        "Q-14 What is the role of try and except in exception handling ?\n"
      ],
      "metadata": {
        "id": "bXKZ-PS0EIcl"
      }
    },
    {
      "cell_type": "markdown",
      "source": [
        "Ans The try and except blocks are used to handle exceptions in Python:\n",
        "\n",
        "try: Wraps code that might raise an error.\n",
        "\n",
        "except: Catches and handles the error if it occurs, preventing the program from crashing.\n",
        "\n",
        "Example:\n",
        "\n",
        "python\n",
        "Copy\n",
        "Edit\n",
        "try:\n",
        "    x = 1 / 0\n",
        "except ZeroDivisionError:\n",
        "    print(\"Cannot divide by zero\")\n",
        "\n",
        "\n",
        "\n",
        "\n",
        "\n",
        "\n",
        "\n",
        "\n",
        "\n",
        "\n",
        "\n"
      ],
      "metadata": {
        "id": "u3Bhmn2jESOy"
      }
    },
    {
      "cell_type": "markdown",
      "source": [
        "Q-15  How does Python's garbage collection system work ?\n"
      ],
      "metadata": {
        "id": "29BIAFkwEmm5"
      }
    },
    {
      "cell_type": "markdown",
      "source": [
        "Ans Python’s garbage collection works mainly through:\n",
        "\n",
        "Reference Counting: Each object keeps track of how many references point to it. When references drop to zero, the object is immediately deleted.\n",
        "\n",
        "Cycle Detection: Python’s garbage collector also detects and cleans up reference cycles (objects referencing each other), which reference counting alone can’t handle.\n",
        "\n"
      ],
      "metadata": {
        "id": "k0On7jy9E3xN"
      }
    },
    {
      "cell_type": "markdown",
      "source": [
        "Q-16 What is the purpose of the else block in exception handling ?\n"
      ],
      "metadata": {
        "id": "UzgizoBAFDUU"
      }
    },
    {
      "cell_type": "markdown",
      "source": [
        "Ans The else block in exception handling runs only if no exception was raised in the try block. It’s useful for code that should execute when everything succeeds, keeping it separate from error handling.\n",
        "\n",
        "Example:\n",
        "\n",
        "python\n",
        "Copy\n",
        "Edit\n",
        "try:\n",
        "    result = 10 / 2\n",
        "except ZeroDivisionError:\n",
        "    print(\"Error\")\n",
        "else:\n",
        "    print(\"Success, result is\", result)\n",
        "\n",
        "\n",
        "\n",
        "\n",
        "\n",
        "\n",
        "\n"
      ],
      "metadata": {
        "id": "nkIP8EGOFQQA"
      }
    },
    {
      "cell_type": "markdown",
      "source": [
        "Q-17 What are the common logging levels in Python ?\n"
      ],
      "metadata": {
        "id": "yogBXKzOFcfb"
      }
    },
    {
      "cell_type": "markdown",
      "source": [
        "Ans Common logging levels in Python are:\n",
        "\n",
        "DEBUG: Detailed info, useful for diagnosing problems.\n",
        "\n",
        "INFO: General events or milestones in the program.\n",
        "\n",
        "WARNING: Something unexpected happened, but the program is still running.\n",
        "\n",
        "ERROR: A serious problem that caused part of the program to fail.\n",
        "\n",
        "CRITICAL: A very serious error, possibly causing the program to stop.\n",
        "\n",
        "\n",
        "\n",
        "\n",
        "\n",
        "\n",
        "\n",
        "\n"
      ],
      "metadata": {
        "id": "w-yWVufxFose"
      }
    },
    {
      "cell_type": "markdown",
      "source": [
        "Q-18 What is the difference between os.fork() and multiprocessing in Python ?\n"
      ],
      "metadata": {
        "id": "82WeqkmeFxKd"
      }
    },
    {
      "cell_type": "markdown",
      "source": [
        "Ans os.fork():\n",
        "\n",
        "Creates a new child process by duplicating the current process (Unix/Linux only).\n",
        "\n",
        "Low-level, you manage processes manually.\n",
        "\n",
        "The child process starts as a copy of the parent.\n",
        "\n",
        "multiprocessing module:\n",
        "\n",
        "A high-level API for creating and managing processes, works on Windows and Unix.\n",
        "\n",
        "Easier to use, provides process pools, communication tools, and more.\n",
        "\n",
        "Abstracts away low-level details like fork().\n",
        "\n"
      ],
      "metadata": {
        "id": "18aqXcv1F4Zc"
      }
    },
    {
      "cell_type": "markdown",
      "source": [
        "Q-19 What is the importance of closing a file in Python ?\n"
      ],
      "metadata": {
        "id": "3bxcCT24GHbU"
      }
    },
    {
      "cell_type": "markdown",
      "source": [
        "Ans Closing a file in Python is important because it:\n",
        "\n",
        "Frees system resources tied to the file.\n",
        "\n",
        "Ensures data is properly saved (flushed from buffers to disk).\n",
        "\n",
        "Prevents file corruption or data loss.\n",
        "\n",
        "Allows other programs to access the file safely.\n",
        "\n",
        "Using with automatically handles closing for you.\n",
        "\n",
        "\n",
        "\n",
        "\n",
        "\n",
        "\n",
        "\n",
        "\n"
      ],
      "metadata": {
        "id": "3uDkTffCGPxK"
      }
    },
    {
      "cell_type": "markdown",
      "source": [
        "Q-20  What is the difference between file.read() and file.readline() in Python ?\n"
      ],
      "metadata": {
        "id": "fmZU-hbvGhIw"
      }
    },
    {
      "cell_type": "markdown",
      "source": [
        "Ans The difference is:\n",
        "\n",
        "file.read() reads the entire content of the file (or a specified number of bytes) as a single string.\n",
        "\n",
        "file.readline() reads one line at a time from the file, including the newline character.\n",
        "\n",
        "Use read() for full file content, readline() to process line by line."
      ],
      "metadata": {
        "id": "3wJT4AJ7GrOl"
      }
    },
    {
      "cell_type": "markdown",
      "source": [
        "Q-21 What is the logging module in Python used for ?\n"
      ],
      "metadata": {
        "id": "ewV62moeG0zd"
      }
    },
    {
      "cell_type": "markdown",
      "source": [
        "Ans The logging module in Python is used to record messages about a program’s execution. It helps:\n",
        "\n",
        "Track events, errors, and warnings.\n",
        "\n",
        "Debug and diagnose issues.\n",
        "\n",
        "Save logs to files or display them on the console.\n",
        "\n",
        "Control message importance via log levels (DEBUG, INFO, WARNING, etc.).\n",
        "\n",
        "\n",
        "\n",
        "\n",
        "\n",
        "\n",
        "\n",
        "\n"
      ],
      "metadata": {
        "id": "Q6jRzmWSG9fh"
      }
    },
    {
      "cell_type": "markdown",
      "source": [
        "Q-22 What is the os module in Python used for in file handling ?\n"
      ],
      "metadata": {
        "id": "JxsQeMVhHHhh"
      }
    },
    {
      "cell_type": "markdown",
      "source": [
        "Ans The os module in Python is used in file handling to interact with the operating system, providing functions to:\n",
        "\n",
        "Create, delete, rename, and move files or directories (os.rename(), os.remove(), os.mkdir(), etc.).\n",
        "\n",
        "Get file or directory information (os.path functions like os.path.exists(), os.path.getsize()).\n",
        "\n",
        "Work with file paths (joining, splitting paths).\n",
        "\n",
        "Change the current working directory (os.chdir()).\n",
        "\n"
      ],
      "metadata": {
        "id": "DhBy6CN4HQzn"
      }
    },
    {
      "cell_type": "markdown",
      "source": [
        "Q-23  What are the challenges associated with memory management in Python ?\n"
      ],
      "metadata": {
        "id": "8FFClN4_HcO4"
      }
    },
    {
      "cell_type": "markdown",
      "source": [
        "Ans Challenges in Python memory management include:\n",
        "\n",
        "Reference cycles: Objects referencing each other can cause memory leaks if not properly collected.\n",
        "\n",
        "Global Interpreter Lock (GIL): Limits parallelism, affecting memory usage in multithreading.\n",
        "\n",
        "Overhead of dynamic typing: Python’s flexible objects consume more memory than static languages.\n",
        "\n",
        "Unpredictable garbage collection timing: Can cause pauses affecting performance.\n",
        "\n",
        "\n",
        "\n",
        "\n",
        "\n",
        "\n",
        "\n",
        "\n",
        "\n",
        "\n",
        "\n",
        "\n"
      ],
      "metadata": {
        "id": "1Rou1uqhHlmP"
      }
    },
    {
      "cell_type": "markdown",
      "source": [
        "Q-24 How do you raise an exception manually in Python ?\n"
      ],
      "metadata": {
        "id": "wjC-MRj2HwOK"
      }
    },
    {
      "cell_type": "markdown",
      "source": [
        "Ans You can manually raise an exception using the raise statement. For example:\n",
        "\n",
        "python\n",
        "\n",
        "raise ValueError(\"This is an error message\")\n"
      ],
      "metadata": {
        "id": "AuG91-ebH6Ob"
      }
    },
    {
      "cell_type": "markdown",
      "source": [
        "Q-25 Why is it important to use multithreading in certain applications?"
      ],
      "metadata": {
        "id": "F_xFpYtDIH-T"
      }
    },
    {
      "cell_type": "markdown",
      "source": [
        "Ans Multithreading is important because it:\n",
        "\n",
        "Improves responsiveness in applications (like GUIs or servers) by handling multiple tasks simultaneously.\n",
        "\n",
        "Efficiently manages I/O-bound tasks (e.g., reading files, network requests) without blocking the main program.\n",
        "\n",
        "Better resource utilization on systems where tasks spend time waiting rather than computing.\n",
        "\n"
      ],
      "metadata": {
        "id": "-gW60DMSISZJ"
      }
    },
    {
      "cell_type": "markdown",
      "source": [
        "# ***PRACTICAL QUESTIONS :***"
      ],
      "metadata": {
        "id": "HuzxvbFsIcjA"
      }
    },
    {
      "cell_type": "markdown",
      "source": [
        "Q-1 How can you open a file for writing in Python and write a string to it ?\n"
      ],
      "metadata": {
        "id": "_7d_de89IroA"
      }
    },
    {
      "cell_type": "markdown",
      "source": [
        "with open(\"filename.txt\", \"w\") as file:\n",
        "    \n",
        "    file.write(\"Your string here\")\n",
        "This creates (or overwrites) the file and writes the string safely.\n",
        "The with statement ensures the file closes automatically.\n",
        "\n",
        "\n",
        "\n",
        "\n",
        "\n",
        "\n",
        "\n",
        "\n",
        "\n",
        "\n",
        "\n"
      ],
      "metadata": {
        "id": "9Io49EytJQlh"
      }
    },
    {
      "cell_type": "markdown",
      "source": [
        "Q-2 Write a Python program to read the contents of a file and print each line ?\n"
      ],
      "metadata": {
        "id": "XxsdPv_3JVQA"
      }
    },
    {
      "cell_type": "markdown",
      "source": [
        "Ans with open(\"filename.txt\", \"r\") as file:\n",
        "    for line in file:\n",
        "        print(line, end='')  # end='' avoids adding extra newlines.\n"
      ],
      "metadata": {
        "id": "RWjkeGzuKV3p"
      }
    },
    {
      "cell_type": "markdown",
      "source": [
        "Q-3 How would you handle a case where the file doesn't exist while trying to open it for reading ?\n"
      ],
      "metadata": {
        "id": "NQ2t7vuyKhEz"
      }
    },
    {
      "cell_type": "markdown",
      "source": [
        "Ans try:\n",
        "    with open(\"filename.txt\", \"r\") as file:\n",
        "        for line in file:\n",
        "            print(line, end='')\n",
        "except FileNotFoundError:\n",
        "    print(\"The file does not exist.\")"
      ],
      "metadata": {
        "id": "Z8-0AkEIK9Jl"
      }
    },
    {
      "cell_type": "markdown",
      "source": [
        "Q-4 Write a Python script that reads from one file and writes its content to another file ?\n"
      ],
      "metadata": {
        "id": "YSjEiOXLLCCr"
      }
    },
    {
      "cell_type": "markdown",
      "source": [
        "Ans with open(\"source.txt\", \"r\") as src, open(\"destination.txt\", \"w\") as dest:\n",
        "    for line in src:\n",
        "        dest.write(line)\n"
      ],
      "metadata": {
        "id": "_0nYEHDaLNXM"
      }
    },
    {
      "cell_type": "markdown",
      "source": [
        "Q-5  How would you catch and handle division by zero error in Python ?\n"
      ],
      "metadata": {
        "id": "W6VFg6joLebo"
      }
    },
    {
      "cell_type": "markdown",
      "source": [
        "Ans You can catch and handle a division by zero error using a try-except block like this:\n",
        "\n",
        "python\n",
        "\n",
        "    result = 10 / 0\n",
        "except ZeroDivisionError:\n",
        "    print(\"Cannot divide by zero!\")\n"
      ],
      "metadata": {
        "id": "-5xmKHbhLnGg"
      }
    },
    {
      "cell_type": "markdown",
      "source": [
        "Q-6 Write a Python program that logs an error message to a log file when a division by zero exception occurs ?\n",
        "\n"
      ],
      "metadata": {
        "id": "CsWO4n42L9n8"
      }
    },
    {
      "cell_type": "markdown",
      "source": [
        "Ans import logging\n",
        "\n",
        "logging.basicConfig(filename='error.log', level=logging.ERROR,\n",
        "                    format='%(asctime)s - %(levelname)s - %(message)s')\n",
        "\n",
        "try:\n",
        "    result = 10 / 0\n",
        "except ZeroDivisionError as e:\n",
        "    logging.error(\"Division by zero error occurred: %s\", e)\n",
        "    print(\"Error logged to file.\")\n"
      ],
      "metadata": {
        "id": "-0KgvmWNMdbz"
      }
    },
    {
      "cell_type": "markdown",
      "source": [
        "Q-7 How do you log information at different levels (INFO, ERROR, WARNING) in Python using the logging module ?\n"
      ],
      "metadata": {
        "id": "qSkTiGkOM7qq"
      }
    },
    {
      "cell_type": "markdown",
      "source": [
        "Ans import logging\n",
        "\n",
        "logging.basicConfig(level=logging.DEBUG)  # Set the base logging level\n",
        "\n",
        "logging.debug(\"This is a DEBUG message\")\n",
        "logging.info(\"This is an INFO message\")\n",
        "logging.warning(\"This is a WARNING message\")\n",
        "logging.error(\"This is an ERROR message\")\n",
        "logging.critical(\"This is a CRITICAL message\")\n",
        "Use basicConfig() to configure the output format, file, or logging level.\n",
        "\n",
        "\n",
        "\n",
        "\n",
        "\n",
        "\n",
        "\n",
        "\n"
      ],
      "metadata": {
        "id": "7hR8n8B3NHlf"
      }
    },
    {
      "cell_type": "markdown",
      "source": [
        "Q-8 Write a program to handle a file opening error using exception handling ?\n"
      ],
      "metadata": {
        "id": "NdPHlXFoQ0Ny"
      }
    },
    {
      "cell_type": "markdown",
      "source": [
        "Ans try:\n",
        "    with open(\"nonexistent_file.txt\", \"r\") as file:\n",
        "        content = file.read()\n",
        "        print(content)\n",
        "except FileNotFoundError:\n",
        "    print(\"Error: The file was not found.\")\n"
      ],
      "metadata": {
        "id": "_upRXbVBQ79z"
      }
    },
    {
      "cell_type": "markdown",
      "source": [
        "Q-9 How can you read a file line by line and store its content in a list in Python ?\n"
      ],
      "metadata": {
        "id": "nleOwB1yRH-K"
      }
    },
    {
      "cell_type": "markdown",
      "source": [
        "Ans with open(\"filename.txt\", \"r\") as file:\n",
        "    lines = file.readlines()\n",
        "Or using a loop for better memory efficiency:\n",
        "\n",
        "python\n",
        "Copy\n",
        "Edit\n",
        "lines = []\n",
        "with open(\"filename.txt\", \"r\") as file:\n",
        "    for line in file:\n",
        "        lines.append(line.strip())"
      ],
      "metadata": {
        "id": "GtS1IXxIRQLe"
      }
    },
    {
      "cell_type": "markdown",
      "source": [
        "Q-10 How can you append data to an existing file in Python ?\n"
      ],
      "metadata": {
        "id": "L2siB07PRii1"
      }
    },
    {
      "cell_type": "markdown",
      "source": [
        "Ans To append data to an existing file in Python, open it in append mode (\"a\"):\n",
        "\n",
        "python\n",
        "\n",
        "with open(\"filename.txt\", \"a\") as file:\n",
        "    file.write(\"New line of text\\n\")\n"
      ],
      "metadata": {
        "id": "l_UL6En5Rrr-"
      }
    },
    {
      "cell_type": "markdown",
      "source": [
        "Q-11  Write a Python program that uses a try-except block to handle an error when attempting to access a dictionary key that doesn't exist ?\n",
        "\n"
      ],
      "metadata": {
        "id": "aPUgDUZJR4I3"
      }
    },
    {
      "cell_type": "markdown",
      "source": [
        "Ans my_dict = {\"name\": \"Alice\", \"age\": 30}\n",
        "\n",
        "try:\n",
        "    print(my_dict[\"gender\"])  # Key doesn't exist\n",
        "except KeyError:\n",
        "    print(\"Error: The specified key does not exist in the dictionary.\")\n"
      ],
      "metadata": {
        "id": "vfw8CY2uSJ2W"
      }
    },
    {
      "cell_type": "markdown",
      "source": [
        "Q-12 Write a program that demonstrates using multiple except blocks to handle different types of exceptions ?\n"
      ],
      "metadata": {
        "id": "ranVxuNHSg1T"
      }
    },
    {
      "cell_type": "markdown",
      "source": [
        "Ans Here's a Python program that uses multiple except blocks to handle different exception types:\n",
        "\n",
        "python\n",
        "\n",
        "    num = int(input(\"Enter a number: \"))\n",
        "    result = 10 / num\n",
        "    print(\"Result:\", result)\n",
        "    my_list = [1, 2, 3]\n",
        "    print(my_list[num])\n",
        "except ValueError:\n",
        "    print(\"Error: Invalid input. Please enter a number.\")\n",
        "except ZeroDivisionError:\n",
        "    print(\"Error: Cannot divide by zero.\")\n",
        "except IndexError:\n",
        "    print(\"Error: List index out of range.\")\n",
        "Each except handles a specific error, providing more precise error messages.\n",
        "\n",
        "\n",
        "\n",
        "\n",
        "\n",
        "\n",
        "\n",
        "\n"
      ],
      "metadata": {
        "id": "75bEVDIvSq-4"
      }
    },
    {
      "cell_type": "markdown",
      "source": [
        "Q-13 How would you check if a file exists before attempting to read it in Python ?\n"
      ],
      "metadata": {
        "id": "f7jlMSy8S7uq"
      }
    },
    {
      "cell_type": "markdown",
      "source": [
        "You can check if a file exists using the os.path.exists() or pathlib.Path.exists() method:\n",
        "\n",
        "Using os module:\n",
        "\n",
        "\n",
        "if os.path.exists(\"filename.txt\"):\n",
        "    with open(\"filename.txt\", \"r\") as file:\n",
        "        content = file.read()\n",
        "else:\n",
        "    print(\"File does not exist.\")\n",
        "Using pathlib:\n",
        "\n",
        "\n",
        "from pathlib import Path\n",
        "\n",
        "file = Path(\"filename.txt\")\n",
        "if file.exists():\n",
        "    content = file.read_text()\n",
        "else:\n",
        "    print(\"File does not exist.\")\n",
        "\n",
        "\n",
        "\n",
        "\n",
        "\n",
        "\n",
        "\n"
      ],
      "metadata": {
        "id": "UDCDV9EYTIec"
      }
    },
    {
      "cell_type": "markdown",
      "source": [
        "Q-14 Write a program that uses the logging module to log both informational and error messages ?\n"
      ],
      "metadata": {
        "id": "oMcNc5FPTUyb"
      }
    },
    {
      "cell_type": "markdown",
      "source": [
        "Ans Here's a Python program that uses the logging module to log informational and error messages:\n",
        "\n",
        "python\n",
        "\n",
        "import logging\n",
        "\n",
        "\n",
        "logging.basicConfig(level=logging.INFO, format='%(levelname)s: %(message)s')\n",
        "\n",
        "def divide(a, b):\n",
        "    try:\n",
        "        result = a / b\n",
        "        logging.info(f\"Division successful: {a} / {b} = {result}\")\n",
        "        return result\n",
        "    except ZeroDivisionError:\n",
        "        logging.error(\"Error: Cannot divide by zero.\")\n",
        "\n",
        "divide(10, 2)\n",
        "divide(5, 0)\n"
      ],
      "metadata": {
        "id": "4ChNAkCCThsj"
      }
    },
    {
      "cell_type": "markdown",
      "source": [
        "Q-15 Write a Python program that prints the content of a file and handles the case when the file is empty ?\n"
      ],
      "metadata": {
        "id": "vcZijVUPT0ju"
      }
    },
    {
      "cell_type": "markdown",
      "source": [
        "Ans Here's a Python program that prints the content of a file and handles the case when the file is empty:\n",
        "\n",
        "python\n",
        "\n",
        "    with open(\"filename.txt\", \"r\") as file:\n",
        "        content = file.read()\n",
        "        if content:\n",
        "            print(\"File Content:\\n\", content)\n",
        "        else:\n",
        "            print(\"The file is empty.\")\n",
        "except FileNotFoundError:\n",
        "    print(\"Error: File not found.\")\n",
        "It reads the file, checks if the content is empty, and handles missing files gracefully.\n",
        "\n",
        "\n",
        "\n",
        "\n",
        "\n"
      ],
      "metadata": {
        "id": "acMSbNeFUCFN"
      }
    },
    {
      "cell_type": "markdown",
      "source": [
        "Q-16 Demonstrate how to use memory profiling to check the memory usage of a small program ?\n"
      ],
      "metadata": {
        "id": "d-x3AGSRUSwP"
      }
    },
    {
      "cell_type": "markdown",
      "source": [
        "Ans To profile memory usage in Python, you can use the memory_profiler module. Here's a simple example:\n",
        "\n",
        "First, install it (if you haven’t already):\n",
        "\n",
        "bash\n",
        "\n",
        "pip install memory-profiler\n",
        "Then create a script like this (memory_test.py):\n",
        "\n",
        "python\n",
        "\n",
        "from memory_profiler import profile\n",
        "\n",
        "@profile\n",
        "def create_list():\n",
        "    my_list = [i for i in range(100000)]\n",
        "    return my_list\n",
        "\n",
        "if __name__ == \"__main__\":\n",
        "    create_list()\n",
        "\n"
      ],
      "metadata": {
        "id": "_hHDS4EyUcv8"
      }
    },
    {
      "cell_type": "markdown",
      "source": [
        "Q-17 Write a Python program to create and write a list of numbers to a file, one number per line ?\n"
      ],
      "metadata": {
        "id": "r5na-CIuUw6O"
      }
    },
    {
      "cell_type": "markdown",
      "source": [
        "Ans Here’s a Python program that writes a list of numbers to a file, one number per line:\n",
        "\n",
        "python\n",
        "numbers = [1, 2, 3, 4, 5]\n",
        "\n",
        "with open(\"numbers.txt\", \"w\") as file:\n",
        "    for number in numbers:\n",
        "        file.write(f\"{number}\\n\")\n",
        "\n",
        "\n",
        "\n",
        "\n",
        "\n",
        "\n",
        "\n"
      ],
      "metadata": {
        "id": "ngvz7ZB7U6Jh"
      }
    },
    {
      "cell_type": "markdown",
      "source": [
        "Q-18 How would you implement a basic logging setup that logs to a file with rotation after 1MB ?\n"
      ],
      "metadata": {
        "id": "J3tAj8E8VEnb"
      }
    },
    {
      "cell_type": "markdown",
      "source": [
        "Ans You can use Python’s logging module with RotatingFileHandler to log to a file and rotate it after it reaches 1MB:\n",
        "\n",
        "python\n",
        "\n",
        "import logging\n",
        "from logging.handlers import RotatingFileHandler\n",
        "\n",
        "logger = logging.getLogger(\"MyLogger\")\n",
        "logger.setLevel(logging.INFO)\n",
        "\n",
        "handler = RotatingFileHandler(\"app.log\", maxBytes=1_000_000, backupCount=3)\n",
        "formatter = logging.Formatter('%(asctime)s - %(levelname)s - %(message)s')\n",
        "handler.setFormatter(formatter)\n",
        "\n",
        "logger.addHandler(handler)\n",
        "\n",
        "\n",
        "logger.info(\"This is an info message\")\n",
        "logger.error(\"This is an error message\")\n"
      ],
      "metadata": {
        "id": "R3X19E3SVNiz"
      }
    },
    {
      "cell_type": "markdown",
      "source": [
        "Q-19 Write a program that handles both IndexError and KeyError using a try-except block ?\n"
      ],
      "metadata": {
        "id": "K2nkAR4EVcuE"
      }
    },
    {
      "cell_type": "markdown",
      "source": [
        "Ans Here’s a Python program that handles both IndexError and KeyError using a single try-except block:\n",
        "\n",
        "python\n",
        "\n",
        "my_list = [10, 20, 30]\n",
        "my_dict = {\"a\": 1, \"b\": 2}\n",
        "\n",
        "try:\n",
        "    print(my_list[5])       # May raise IndexError\n",
        "    print(my_dict[\"z\"])     # May raise KeyError\n",
        "except IndexError:\n",
        "    print(\"Caught an IndexError: list index out of range.\")\n",
        "except KeyError:\n",
        "    print(\"Caught a KeyError: key not found in dictionary.\")"
      ],
      "metadata": {
        "id": "o7xi2XoGVkul"
      }
    },
    {
      "cell_type": "markdown",
      "source": [
        "Q-20 How would you open a file and read its contents using a context manager in Python ?\n"
      ],
      "metadata": {
        "id": "SYEFQBZaV0x2"
      }
    },
    {
      "cell_type": "markdown",
      "source": [
        "Ans You open and read a file using a context manager (with statement) like this:\n",
        "\n",
        "python\n",
        "\n",
        "with open(\"filename.txt\", \"r\") as file:\n",
        "    content = file.read()\n",
        "    print(content)"
      ],
      "metadata": {
        "id": "a0b0vt8FV8i6"
      }
    },
    {
      "cell_type": "markdown",
      "source": [
        "Q-21 Write a Python program that reads a file and prints the number of occurrences of a specific word ?\n"
      ],
      "metadata": {
        "id": "3ProPPzAWJIU"
      }
    },
    {
      "cell_type": "markdown",
      "source": [
        "Ans Here’s a Python program that reads a file and counts how many times a specific word appears:\n",
        "\n",
        "python\n",
        "\n",
        "word_to_count = \"example\"\n",
        "count = 0\n",
        "\n",
        "with open(\"filename.txt\", \"r\") as file:\n",
        "    for line in file:\n",
        "        words = line.lower().split()\n",
        "        count += words.count(word_to_count.lower())\n",
        "\n",
        "print(f\"The word '{word_to_count}' occurs {count} times.\")\n",
        "\n",
        "\n",
        "\n",
        "\n",
        "\n",
        "\n",
        "\n"
      ],
      "metadata": {
        "id": "ddgs4iXyWg-y"
      }
    },
    {
      "cell_type": "markdown",
      "source": [
        "Q-22 How can you check if a file is empty before attempting to read its contents ?\n"
      ],
      "metadata": {
        "id": "Mors3IvvWnNd"
      }
    },
    {
      "cell_type": "markdown",
      "source": [
        "Ans You can check if a file is empty by checking its size before reading:\n",
        "\n",
        "python\n",
        "\n",
        "import os\n",
        "\n",
        "if os.path.getsize(\"filename.txt\") > 0:\n",
        "    with open(\"filename.txt\", \"r\") as file:\n",
        "        content = file.read()\n",
        "        print(content)\n",
        "else:\n",
        "    print(\"The file is empty.\")\n"
      ],
      "metadata": {
        "id": "_7mvp04nWw0R"
      }
    },
    {
      "cell_type": "markdown",
      "source": [
        "Q-23 Write a Python program that writes to a log file when an error occurs during file handling ?\n"
      ],
      "metadata": {
        "id": "QW7fBdMbW8OJ"
      }
    },
    {
      "cell_type": "markdown",
      "source": [
        "Ans Here’s a Python program that logs errors during file handling to a log file using the logging module:\n",
        "\n",
        "python\n",
        "\n",
        "import logging\n",
        "\n",
        "logging.basicConfig(filename=\"error.log\",\n",
        "                    level=logging.ERROR,\n",
        "                    format='%(asctime)s - %(levelname)s - %(message)s')\n",
        "\n",
        "try:\n",
        "    with open(\"somefile.txt\", \"r\") as file:\n",
        "        content = file.read()\n",
        "        print(content)\n",
        "except Exception as e:\n",
        "    logging.error(f\"An error occurred: {e}\")\n",
        "    print(\"An error occurred. Check error.log for details.\")\n",
        "\n",
        "\n",
        "\n",
        "\n",
        "\n",
        "\n",
        "\n"
      ],
      "metadata": {
        "id": "eK8v1Ps4XC_2"
      }
    }
  ]
}